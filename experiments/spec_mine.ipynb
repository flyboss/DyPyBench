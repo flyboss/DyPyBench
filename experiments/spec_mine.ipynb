{
 "cells": [
  {
   "cell_type": "markdown",
   "metadata": {},
   "source": [
    "# Mining Specifications from Execution Traces\n",
    "\n",
    "* The content of this notebook corresponds to the analysis done in section 4.3 in the paper.\n",
    "* As mentioned in the paper, it took 3 days to mine sequences of 27 projects.\n",
    "* In this notebook we use 1 project as example, but it still takes more than 10 minutes to complete (Run carefully)."
   ]
  },
  {
   "cell_type": "markdown",
   "metadata": {},
   "source": [
    "## Loading data"
   ]
  },
  {
   "cell_type": "code",
   "execution_count": 1,
   "metadata": {},
   "outputs": [],
   "source": [
    "## We use this project as example\n",
    "import json\n",
    "\n",
    "with open(\"/DyPyBench/callgraph_seq/p13.json\") as dseq:\n",
    "    seq_calls = json.load(dseq)"
   ]
  },
  {
   "cell_type": "markdown",
   "metadata": {},
   "source": [
    "## Extracting and Preprocessing callers/callees sequences"
   ]
  },
  {
   "cell_type": "code",
   "execution_count": 4,
   "metadata": {},
   "outputs": [],
   "source": [
    "## Parsing the sequence to callers and the sequence of calles within each caller\n",
    "## The format is something like:\n",
    "    ## -- caller\n",
    "    ##      -- callee\n",
    "    ##      -- callee\n",
    "    ##      -- callee ...\n",
    "def split_by_callers(calls_sequence):\n",
    "    counter = 1\n",
    "    caller = calls_sequence[0].split(\"##\")[-1]\n",
    "    splitted_sequences = []\n",
    "    s_temp = []\n",
    "    s_temp.append(calls_sequence[0])\n",
    "    i = 1\n",
    "    while True:\n",
    "        if i == len(calls_sequence):\n",
    "            splitted_sequences.append(s_temp)\n",
    "            break\n",
    "        c = calls_sequence[i]\n",
    "        if c.startswith(\"#START#\"):\n",
    "            if counter == 0 and c.split(\"##\")[-1] != caller:\n",
    "                splitted_sequences.append(s_temp)\n",
    "                s_temp = [c]\n",
    "                if i == len(calls_sequence):\n",
    "                    splitted_sequences.append(s_temp)\n",
    "                    break\n",
    "                else:\n",
    "                    caller = c\n",
    "            else:\n",
    "                s_temp.append(c)\n",
    "            counter += 1\n",
    "        elif c.startswith(\"#END#\"):\n",
    "            counter -= 1\n",
    "            s_temp.append(c)\n",
    "        i = i + 1\n",
    "    return splitted_sequences\n",
    "\n",
    "splitted_seqs = split_by_callers(seq_calls)"
   ]
  },
  {
   "cell_type": "code",
   "execution_count": 6,
   "metadata": {},
   "outputs": [],
   "source": [
    "## recursively extract sequences callees within each caller\n",
    "## \n",
    "final_list = []\n",
    "seq_calls = [seq_calls]\n",
    "while True:\n",
    "    temp_seq = []\n",
    "    for sc in seq_calls:\n",
    "        temp_seq.extend(split_by_callers(sc))\n",
    "    final_list.extend(temp_seq)\n",
    "    seq_calls = []\n",
    "    for s in temp_seq:\n",
    "        if len(s) not in [0, 1, 2]:\n",
    "            seq_calls.append(s[1:-1])\n",
    "\n",
    "    if len(seq_calls)==0:\n",
    "        break\n",
    "\n",
    "simple_final_list = []\n",
    "for l in final_list:\n",
    "    simple_final_list.append([c.split(\"##\")[0] for c in l])"
   ]
  },
  {
   "cell_type": "code",
   "execution_count": 8,
   "metadata": {},
   "outputs": [
    {
     "data": {
      "text/plain": [
       "4831"
      ]
     },
     "execution_count": 8,
     "metadata": {},
     "output_type": "execute_result"
    }
   ],
   "source": [
    "## number of sequences\n",
    "len(simple_final_list)"
   ]
  },
  {
   "cell_type": "code",
   "execution_count": 10,
   "metadata": {},
   "outputs": [],
   "source": [
    "## Filtering sequences of calls that were interrupted with an exception or sudden termination\n",
    "filtered_list = []\n",
    "for l in simple_final_list:\n",
    "    new_l = []\n",
    "    i = 0\n",
    "    while l[0].startswith(\"#END#\"):\n",
    "        l = l[1:]\n",
    "    c_old = l[0].split(\"#\")[2]\n",
    "    for c in l[1:]:\n",
    "        if c.split(\"#\")[2] == c_old:\n",
    "            new_l.append(c_old)\n",
    "        c_old = c.split(\"#\")[2]\n",
    "    filtered_list.append(new_l)\n",
    "filtered_list = [f  for f in filtered_list if len(f)!=0]"
   ]
  },
  {
   "cell_type": "code",
   "execution_count": 12,
   "metadata": {},
   "outputs": [
    {
     "data": {
      "text/plain": [
       "4213"
      ]
     },
     "execution_count": 12,
     "metadata": {},
     "output_type": "execute_result"
    }
   ],
   "source": [
    "## Number of valid sequences\n",
    "len(filtered_list)"
   ]
  },
  {
   "cell_type": "code",
   "execution_count": 10,
   "metadata": {},
   "outputs": [],
   "source": [
    "## Transform from tree format to linear format (continous 1D array)\n",
    "def inline_sequence(calls_list):\n",
    "    if len(calls_list) == 2:\n",
    "        return [calls_list]\n",
    "    first_item = calls_list[0]\n",
    "    first_name = first_item.replace(\"#START#\", \"\").replace(\"#END#\", \"\")\n",
    "    counter = 1\n",
    "    sub_list = []\n",
    "    list_of_sub_lists = []\n",
    "    sub_list.append(first_item)\n",
    "    i = 1\n",
    "    while True:\n",
    "        next_item = calls_list[i]\n",
    "        sub_list.append(next_item)\n",
    "        if next_item == first_item:\n",
    "            counter += 1\n",
    "        elif next_item == \"#END#\"+first_name:\n",
    "            counter -= 1\n",
    "        if counter == 0:\n",
    "            list_of_sub_lists.append(sub_list)\n",
    "            sub_list = []\n",
    "            i += 1\n",
    "            if i == len(calls_list):\n",
    "                return list_of_sub_lists\n",
    "            first_item = calls_list[i]\n",
    "            counter = 1\n",
    "            sub_list.append(first_item)\n",
    "            first_name = first_item.replace(\"#START#\", \"\").replace(\"#END#\", \"\")        \n",
    "        i += 1    \n",
    "        if i == len(calls_list):\n",
    "            return list_of_sub_lists\n",
    "inlined_seqs = inline_sequence(seq_calls)"
   ]
  },
  {
   "cell_type": "code",
   "execution_count": 12,
   "metadata": {},
   "outputs": [],
   "source": [
    "def produce_sub_sequences(inlined_seqs):\n",
    "    first_list = set([tuple(l) for l in inlined_seqs])\n",
    "    second_list = set([tuple(l) for l in inlined_seqs])\n",
    "\n",
    "    new_list = []\n",
    "    while True:\n",
    "        for l in second_list:\n",
    "            if len(l) != 2:\n",
    "                inseq = inline_sequence(l[1:-1])\n",
    "                new_list.extend(inseq)\n",
    "                new_list.append(l)\n",
    "            else:\n",
    "                new_list.append(l)\n",
    "        new_list = set([tuple(l) for l in new_list])\n",
    "        if new_list == first_list:\n",
    "            break\n",
    "        else:\n",
    "            first_list = new_list\n",
    "            second_list = new_list\n",
    "            new_list = []\n",
    "    return set([tuple(l) for l in new_list if len(l)!= 2])\n",
    "sub_sequences = produce_sub_sequences(inlined_seqs)"
   ]
  },
  {
   "cell_type": "code",
   "execution_count": 15,
   "metadata": {},
   "outputs": [],
   "source": [
    "callers_sequences = {}\n",
    "\n",
    "for seq in sub_sequences:\n",
    "    caller= seq[0].replace(\"#START#\", \"\")\n",
    "    dirty_callees = seq[1:-1]\n",
    "    next_callee = dirty_callees[0]\n",
    "    i = 1\n",
    "    clean_callees = []\n",
    "    while True:\n",
    "        if dirty_callees[i] != next_callee.replace(\"#START#\", \"#END#\"):\n",
    "            i += 1\n",
    "        else:\n",
    "            clean_callees.append(next_callee.replace(\"#START#\", \"\"))\n",
    "            i += 1\n",
    "            if i == len(dirty_callees):\n",
    "                break\n",
    "            else:\n",
    "                next_callee = dirty_callees[i]\n",
    "                i += 1\n",
    "\n",
    "    if caller in callers_sequences:\n",
    "        callers_sequences[caller].append(clean_callees)\n",
    "    else:\n",
    "        callers_sequences[caller] = [clean_callees]\n"
   ]
  },
  {
   "cell_type": "code",
   "execution_count": 2,
   "metadata": {},
   "outputs": [],
   "source": [
    "def get_calls_set(calls):\n",
    "    parsed_list = []\n",
    "    if calls[0] == \"#START#\":\n",
    "        sub_calls = calls[1:-1]\n",
    "        func_name = sub_calls[0]\n",
    "        func_calls = []\n",
    "        sub_calls = calls[1:]\n",
    "        stop = False\n",
    "        f_calls = []\n",
    "        count_start = 0\n",
    "        count_end = 0\n",
    "        for s in sub_calls:\n",
    "            if count_start == 1 and s!= \"#END#\":\n",
    "                func_calls.append(s)\n",
    "            if s == \"#START#\":\n",
    "                count_start += 1\n",
    "                f_calls.append(s)\n",
    "            elif s == \"#END#\":\n",
    "                count_end += 1\n",
    "                f_calls.append(s)\n",
    "            else:\n",
    "                f_calls.append(s)\n",
    "            if count_start == count_end and count_start != 0:\n",
    "                parsed_list.extend(get_calls_set(f_calls))\n",
    "                count_start = 0\n",
    "                count_end = 0\n",
    "                f_calls = []\n",
    "\n",
    "        parsed_list.append((func_name, func_calls))\n",
    "\n",
    "    return parsed_list"
   ]
  },
  {
   "cell_type": "code",
   "execution_count": 15,
   "metadata": {},
   "outputs": [],
   "source": [
    "## Considering sequences with only 3 element at least\n",
    "filtered_list = [f for f in filtered_list if len(f) >= 3]"
   ]
  },
  {
   "cell_type": "markdown",
   "metadata": {},
   "source": [
    "## Finally, mining sequence patterns"
   ]
  },
  {
   "cell_type": "code",
   "execution_count": 17,
   "metadata": {},
   "outputs": [],
   "source": [
    "## Here we use the package Seq2Pat\n",
    "## for more information check: https://github.com/fidelity/seq2pat\n",
    "from sequential.seq2pat import Seq2Pat, Attribute\n",
    "\n",
    "seq2pat = Seq2Pat(sequences=filtered_list[:10])\n",
    "\n",
    "\n",
    "patterns = seq2pat.get_patterns(min_frequency=3)"
   ]
  },
  {
   "cell_type": "code",
   "execution_count": 18,
   "metadata": {},
   "outputs": [
    {
     "data": {
      "text/plain": [
       "[['builtins.str', 'bytes.join', 10],\n",
       " ['builtins.str', 'str.encode', 10],\n",
       " ['builtins.str', 'str.encode', 'bytes.join', 10],\n",
       " ['str.encode', 'bytes.join', 10],\n",
       " ['http.HTTPStatus', 'builtins.str', 9],\n",
       " ['http.HTTPStatus', 'builtins.str', 'bytes.join', 9],\n",
       " ['http.HTTPStatus', 'builtins.str', 'str.encode', 9],\n",
       " ['http.HTTPStatus', 'builtins.str', 'str.encode', 'bytes.join', 9],\n",
       " ['http.HTTPStatus', 'bytes.join', 9],\n",
       " ['http.HTTPStatus', 'str.encode', 9],\n",
       " ['http.HTTPStatus', 'str.encode', 'builtins.str', 9],\n",
       " ['http.HTTPStatus', 'str.encode', 'builtins.str', 'bytes.join', 9],\n",
       " ['http.HTTPStatus', 'str.encode', 'builtins.str', 'str.encode', 9],\n",
       " ['http.HTTPStatus',\n",
       "  'str.encode',\n",
       "  'builtins.str',\n",
       "  'str.encode',\n",
       "  'bytes.join',\n",
       "  9],\n",
       " ['http.HTTPStatus', 'str.encode', 'bytes.join', 9],\n",
       " ['http.HTTPStatus', 'str.encode', 'str.encode', 9],\n",
       " ['http.HTTPStatus', 'str.encode', 'str.encode', 'bytes.join', 9],\n",
       " ['str.encode', 'builtins.str', 9],\n",
       " ['str.encode', 'builtins.str', 'bytes.join', 9],\n",
       " ['str.encode', 'builtins.str', 'str.encode', 9],\n",
       " ['str.encode', 'builtins.str', 'str.encode', 'bytes.join', 9],\n",
       " ['str.encode', 'str.encode', 9],\n",
       " ['str.encode', 'str.encode', 'bytes.join', 9]]"
      ]
     },
     "execution_count": 18,
     "metadata": {},
     "output_type": "execute_result"
    }
   ],
   "source": [
    "## A view of the list of patterns\n",
    "patterns"
   ]
  }
 ],
 "metadata": {
  "kernelspec": {
   "display_name": ".venv",
   "language": "python",
   "name": "python3"
  },
  "language_info": {
   "codemirror_mode": {
    "name": "ipython",
    "version": 3
   },
   "file_extension": ".py",
   "mimetype": "text/x-python",
   "name": "python",
   "nbconvert_exporter": "python",
   "pygments_lexer": "ipython3",
   "version": "3.10.6"
  },
  "orig_nbformat": 4
 },
 "nbformat": 4,
 "nbformat_minor": 2
}
