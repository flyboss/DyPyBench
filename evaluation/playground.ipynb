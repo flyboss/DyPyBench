{
 "cells": [
  {
   "cell_type": "code",
   "execution_count": 1,
   "metadata": {},
   "outputs": [],
   "source": [
    "import json"
   ]
  },
  {
   "cell_type": "code",
   "execution_count": 2,
   "metadata": {},
   "outputs": [],
   "source": [
    "def get_orig_keys(calls_dict):\n",
    "    orig_keys = []\n",
    "    for c_key in calls_dict:\n",
    "        for key in calls_dict:\n",
    "            if c_key != key:\n",
    "                if key in c_key:\n",
    "                    break\n",
    "        else:\n",
    "            orig_keys.append(c_key)\n",
    "    return orig_keys"
   ]
  },
  {
   "cell_type": "code",
   "execution_count": 3,
   "metadata": {},
   "outputs": [],
   "source": [
    "def longest_common_substring(strings):\n",
    "    if not strings:\n",
    "        return \"\"\n",
    "\n",
    "    def find_common_prefix(s1, s2):\n",
    "        common_prefix = \"\"\n",
    "        min_len = min(len(s1), len(s2))\n",
    "        for i in range(min_len):\n",
    "            if s1[i] == s2[i]:\n",
    "                common_prefix += s1[i]\n",
    "            else:\n",
    "                break\n",
    "        return common_prefix\n",
    "\n",
    "    longest_common = strings[0]\n",
    "\n",
    "    for i in range(1, len(strings)):\n",
    "        longest_common = find_common_prefix(longest_common, strings[i])\n",
    "\n",
    "    return longest_common"
   ]
  },
  {
   "cell_type": "code",
   "execution_count": 4,
   "metadata": {},
   "outputs": [],
   "source": [
    "def construct_graph(dynapyt_graph, orig_keys):\n",
    "    new_graph = {}\n",
    "    replacement_rules = {}\n",
    "    processed_keys = []\n",
    "    for key in orig_keys:\n",
    "        calls = dynapyt_graph[key]\n",
    "        new_graph[key] = {k: {} for k in calls}\n",
    "        for k in dynapyt_graph:\n",
    "            if key in k and k not in orig_keys and k not in processed_keys:\n",
    "                longest_sub_root = \"\"\n",
    "                for c in new_graph[key]:\n",
    "                    if c in k and len(c) > len(longest_sub_root):\n",
    "                        longest_sub_root = c\n",
    "                if longest_sub_root == \"\":\n",
    "                    new_graph[k] = {m:{} for m in dynapyt_graph[k]}\n",
    "                else:\n",
    "                    new_graph[key][longest_sub_root] = {m:{} for m in dynapyt_graph[k]}\n",
    "                    \n",
    "                processed_keys.append(k)\n",
    "\n",
    "    return new_graph"
   ]
  },
  {
   "cell_type": "code",
   "execution_count": 5,
   "metadata": {},
   "outputs": [],
   "source": [
    "def dedup(seq):\n",
    "    seen = set()\n",
    "    seen_add = seen.add\n",
    "    return [x for x in seq if not (x in seen or seen_add(x))]"
   ]
  },
  {
   "cell_type": "code",
   "execution_count": 8,
   "metadata": {},
   "outputs": [],
   "source": [
    "import re\n",
    "def simplify_pycg_graph(pycg_graph, replace_list=[]):\n",
    "    new_graph = {}\n",
    "\n",
    "    for k in pycg_graph:\n",
    "        new_k = re.sub(\"<Mock id='[0-9]+'>\", \"mock Mock\",\n",
    "            re.sub(\n",
    "            \"\\(<Mock id='[0-9]+'>\\)\", \"\", \n",
    "            re.sub(\n",
    "                \"<lambda[0-9]+>\", \n",
    "                \"<lambda>\", \n",
    "                k.replace(\"<builtin>\", \"builtins\").replace(\".__init__\", \"\").replace(\"_enter__\", \"\")\n",
    "            ).replace(\".py.\", \"\")))\n",
    "        \n",
    "        new_v = [re.sub(\"<Mock id='[0-9]+'>\", \"mock Mock\",\n",
    "                re.sub(\"\\(<Mock id='[0-9]+'>\\)\", \"\",\n",
    "                re.sub(\"<lambda[0-9]+>\", \n",
    "                       \"<lambda>\", \n",
    "                       m.replace(\"<builtin>\", \"builtins\").replace(\".__init__\", \"\").replace(\"__enter__.\", \"\").replace(\"__enter__\", \"\").replace(\"_enter__.\", \"\").replace(\"_enter__\", \"\").replace(\".py.\", \"\").replace(\"flask_api.\", \"\"))))\n",
    "                for m in pycg_graph[k]]\n",
    "        if new_k in new_graph:\n",
    "            new_graph[new_k] += new_v\n",
    "        else:\n",
    "            new_graph[new_k] = new_v \n",
    "    \n",
    "    final_graph = {}\n",
    "    for k, v in new_graph.items():\n",
    "        if k.endswith(\".py\"):\n",
    "            final_graph[k[:-3]] = new_graph[k]\n",
    "        else:\n",
    "            final_graph[k] = new_graph[k]\n",
    "\n",
    "    final_graph_2 = {}\n",
    "    for k, v in final_graph.items():\n",
    "        new_k = k if k[0] != \"_\" else k[1:]\n",
    "        new_v = [\".\".join([x[1:] if x.startswith(\"_\") else x for x in e.split(\".\")]) for e in v]\n",
    "        if new_k in final_graph_2:\n",
    "            final_graph_2[new_k] += new_v\n",
    "        else:\n",
    "            final_graph_2[new_k] = new_v\n",
    "\n",
    "    final_graph_3 = {}\n",
    "    \n",
    "    for k, v in final_graph_2.items():\n",
    "        new_k = \".\".join(dedup(k.split(\".\")))\n",
    "        new_v = [\".\".join(dedup(e.split(\".\"))) for e in v]\n",
    "        if new_k in final_graph_3:\n",
    "            final_graph_3[new_k] += new_v\n",
    "        else:\n",
    "            final_graph_3[new_k] = new_v\n",
    "    #final_graph_3 = final_graph_2\n",
    "\n",
    "\n",
    "    final_graph_4 = {}\n",
    "    \n",
    "    for k, v in final_graph_3.items():\n",
    "        new_k = k\n",
    "        new_v = v\n",
    "        for r in replace_list:\n",
    "            new_k = new_k.replace(r[0], r[1])\n",
    "            new_v = [e.replace(r[0], r[1]) for e in new_v]\n",
    "\n",
    "        if new_k in final_graph_4:\n",
    "            final_graph_4[new_k] += new_v\n",
    "        else:\n",
    "            final_graph_4[new_k] = new_v\n",
    "    \n",
    "    for k in final_graph_4:\n",
    "        final_graph_4[k] = list(set(final_graph_4[k]))\n",
    "\n",
    "        \n",
    "    return final_graph_4"
   ]
  },
  {
   "cell_type": "markdown",
   "metadata": {},
   "source": [
    "## PyCG graph"
   ]
  },
  {
   "cell_type": "code",
   "execution_count": 7,
   "metadata": {},
   "outputs": [],
   "source": [
    "def prepare_pycg_graph(path_to_json, replace_list=[]):\n",
    "    with open(path_to_json) as pcgg:\n",
    "        pcg_graph = json.load(pcgg)\n",
    "\n",
    "    simple_pycg_graph = simplify_pycg_graph(pcg_graph, replace_list=replace_list)\n",
    "    #orig_keys = get_orig_keys(simple_pycg_graph)\n",
    "    #c_graph = construct_graph(simple_pycg_graph, orig_keys)\n",
    "    #return c_graph\n",
    "    return simple_pycg_graph"
   ]
  },
  {
   "cell_type": "markdown",
   "metadata": {},
   "source": [
    "## DynaPyt"
   ]
  },
  {
   "cell_type": "code",
   "execution_count": 9,
   "metadata": {},
   "outputs": [],
   "source": [
    "def prepare_dynapyt_graph(path_to_json, project_number, project_folder, replace_list=[]):\n",
    "    print(replace_list)\n",
    "    with open(path_to_json) as dout:\n",
    "        dnpt_graph = json.load(dout)\n",
    "\n",
    "    new_dnpt_graph = {}\n",
    "    for key in dnpt_graph:\n",
    "        new_dnpt_graph[key.replace(\".DyPyBench.temp.project{}.{}.\".format(project_number, project_folder), \"\").replace(\".DyPyBench.temp.project{}.\".format(project_number), \"\")] = [\n",
    "            v.replace(\"{}.\".format(project_folder), \"\").replace(\".case.\", \".\") for v in dnpt_graph[key]]\n",
    "        \n",
    "    print(len(new_dnpt_graph))\n",
    "    simple_dnpt_graph = simplify_pycg_graph(new_dnpt_graph, replace_list=replace_list)\n",
    "    print(len(simple_dnpt_graph))\n",
    "    #orig_keys = get_orig_keys(simple_dnpt_graph)\n",
    "    #graph_comp = construct_graph(simple_dnpt_graph, orig_keys)\n",
    "    #return graph_comp\n",
    "    return simple_dnpt_graph"
   ]
  },
  {
   "cell_type": "code",
   "execution_count": 10,
   "metadata": {},
   "outputs": [],
   "source": [
    "from thefuzz import fuzz\n",
    "from thefuzz import process"
   ]
  },
  {
   "cell_type": "code",
   "execution_count": 11,
   "metadata": {},
   "outputs": [],
   "source": [
    "def print_similar_keys(graph_comp, c_graph):\n",
    "    for key in graph_comp:\n",
    "        if key not in c_graph:\n",
    "            ext = process.extract(key, set(c_graph.keys()), limit=2)\n",
    "            print(key, ext)\n",
    "        "
   ]
  },
  {
   "cell_type": "code",
   "execution_count": 12,
   "metadata": {},
   "outputs": [],
   "source": [
    "def print_similar_values(graph_comp, c_graph):\n",
    "    all_pycg = []\n",
    "    for k, v in c_graph.items():\n",
    "        all_pycg.extend([\" \".join(e.split(\".\")) for e in v])\n",
    "\n",
    "    all_dynapyt = []\n",
    "    for k, v in graph_comp.items():\n",
    "        all_dynapyt.extend([\" \".join(e.split(\".\")) for e in v])\n",
    "    \n",
    "    for c1 in all_dynapyt:\n",
    "        if c1 not in all_pycg:\n",
    "            ext = process.extract(c1, set(all_pycg) , limit=2)\n",
    "            print(c1, ext)"
   ]
  },
  {
   "cell_type": "code",
   "execution_count": 13,
   "metadata": {},
   "outputs": [],
   "source": [
    "## todo\n",
    "# _io\n",
    "# app\n",
    "# datetime datetime\n",
    "#"
   ]
  },
  {
   "cell_type": "code",
   "execution_count": 14,
   "metadata": {},
   "outputs": [],
   "source": [
    "def remove_location(dynapyt_file):\n",
    "    with open(dynapyt_file) as df:\n",
    "        d_graph = json.load(df)\n",
    "\n",
    "\n",
    "    new_graph = {}\n",
    "    for k, v in d_graph.items():\n",
    "        new_graph[k] = [e[:e.find(\"###\")] for e in v]\n",
    "\n",
    "    return new_graph"
   ]
  },
  {
   "cell_type": "code",
   "execution_count": 15,
   "metadata": {},
   "outputs": [],
   "source": [
    "standards = [list, set, dict, str, bytes, int, float]\n",
    "\n",
    "funcs = []\n",
    "\n",
    "for s in standards:\n",
    "    funcs += [e for e in dir(s) if not e.startswith(\"_\")]"
   ]
  },
  {
   "cell_type": "markdown",
   "metadata": {},
   "source": [
    "## Project 1"
   ]
  },
  {
   "cell_type": "code",
   "execution_count": 15,
   "metadata": {},
   "outputs": [],
   "source": [
    "rs_graph = remove_location(\"/DyPyBench/new_dyna_output/project1.json\")\n",
    "\n",
    "with open(\"/DyPyBench/DynaPyt_output/dynapyt_1.json\", \"w\") as dpt:\n",
    "    json.dump(rs_graph, dpt)"
   ]
  },
  {
   "cell_type": "code",
   "execution_count": 16,
   "metadata": {},
   "outputs": [
    {
     "name": "stdout",
     "output_type": "stream",
     "text": [
      "[('unicodec.normalization', 'unicodec'), ('unicodec.main', 'unicodec'), ('stat.Stat', 'Stat'), ('threading', 'thread')]\n",
      "122\n",
      "122\n"
     ]
    },
    {
     "data": {
      "text/plain": [
       "0.9918032786885246"
      ]
     },
     "execution_count": 16,
     "metadata": {},
     "output_type": "execute_result"
    }
   ],
   "source": [
    "pycg_graph = prepare_pycg_graph(\n",
    "    \"/DyPyBench/project1_pycg.json\", \n",
    "    replace_list=[\n",
    "        (\"grab.\", \"\"),\n",
    "        (\"threading\", \"thread\")\n",
    "        ])\n",
    "\n",
    "dynapyt_graph = prepare_dynapyt_graph(\n",
    "    \"/DyPyBench/DynaPyt_output/dynapyt_1.json\", \n",
    "    1, \"grab\", \n",
    "    replace_list=[\n",
    "        (\"unicodec.normalization\", \"unicodec\"),\n",
    "        (\"unicodec.main\", \"unicodec\"),\n",
    "        (\"stat.Stat\", \"Stat\"),\n",
    "        (\"threading\", \"thread\")\n",
    "        ])\n",
    "len(set(dynapyt_graph.keys()) & set(pycg_graph.keys())) / (len(set(dynapyt_graph.keys())))"
   ]
  },
  {
   "cell_type": "code",
   "execution_count": 34,
   "metadata": {},
   "outputs": [
    {
     "data": {
      "text/plain": [
       "400"
      ]
     },
     "execution_count": 34,
     "metadata": {},
     "output_type": "execute_result"
    }
   ],
   "source": [
    "len(set(pycg_graph.keys()))"
   ]
  },
  {
   "cell_type": "code",
   "execution_count": 21,
   "metadata": {},
   "outputs": [
    {
     "name": "stdout",
     "output_type": "stream",
     "text": [
      "spider.service.base.ServiceWorker.wrapper [('spider.service.base.ServiceWorker', 95), ('spider.service.base', 90)]\n"
     ]
    }
   ],
   "source": [
    "print_similar_keys(dynapyt_graph, pycg_graph)"
   ]
  },
  {
   "cell_type": "code",
   "execution_count": 22,
   "metadata": {},
   "outputs": [],
   "source": [
    "all_pycg = []\n",
    "for k, v in pycg_graph.items():\n",
    "    if k in dynapyt_graph.keys():\n",
    "        all_pycg.extend([\" \".join(e.split(\".\")) for e in v])\n",
    "\n",
    "all_dynapyt = []\n",
    "for k, v in dynapyt_graph.items():\n",
    "    all_dynapyt.extend([\" \".join(e.split(\".\")) for e in v])"
   ]
  },
  {
   "cell_type": "code",
   "execution_count": 29,
   "metadata": {},
   "outputs": [
    {
     "data": {
      "text/plain": [
       "0.5299145299145299"
      ]
     },
     "execution_count": 29,
     "metadata": {},
     "output_type": "execute_result"
    }
   ],
   "source": [
    "len(set(all_dynapyt)& set(all_pycg))/len(set(all_dynapyt))"
   ]
  },
  {
   "cell_type": "code",
   "execution_count": 30,
   "metadata": {},
   "outputs": [
    {
     "data": {
      "text/plain": [
       "124"
      ]
     },
     "execution_count": 30,
     "metadata": {},
     "output_type": "execute_result"
    }
   ],
   "source": [
    "len(set(all_dynapyt)& set(all_pycg))"
   ]
  },
  {
   "cell_type": "code",
   "execution_count": 25,
   "metadata": {},
   "outputs": [
    {
     "data": {
      "text/plain": [
       "176"
      ]
     },
     "execution_count": 25,
     "metadata": {},
     "output_type": "execute_result"
    }
   ],
   "source": [
    "len(set(all_pycg))"
   ]
  },
  {
   "cell_type": "code",
   "execution_count": 26,
   "metadata": {},
   "outputs": [],
   "source": [
    "exclude = []\n",
    "for ad in all_dynapyt:\n",
    "    ads = ad.split(\" \")\n",
    "    for f in funcs:\n",
    "        if ads[-1] ==  f:\n",
    "            exclude.append(ad)\n",
    "            break"
   ]
  },
  {
   "cell_type": "code",
   "execution_count": 27,
   "metadata": {},
   "outputs": [
    {
     "data": {
      "text/plain": [
       "0.5613079019073569"
      ]
     },
     "execution_count": 27,
     "metadata": {},
     "output_type": "execute_result"
    }
   ],
   "source": [
    "dyna_edges = [(k, e) for k,v in dynapyt_graph.items() for e in v]\n",
    "pycg_edges = [(k, e) for k,v in pycg_graph.items() for e in v]\n",
    "\n",
    "len(set(dyna_edges) & set(pycg_edges))/len(dyna_edges)"
   ]
  },
  {
   "cell_type": "code",
   "execution_count": 28,
   "metadata": {},
   "outputs": [
    {
     "data": {
      "text/plain": [
       "206"
      ]
     },
     "execution_count": 28,
     "metadata": {},
     "output_type": "execute_result"
    }
   ],
   "source": [
    "\n",
    "len(set(dyna_edges) & set(pycg_edges))"
   ]
  },
  {
   "cell_type": "code",
   "execution_count": 32,
   "metadata": {},
   "outputs": [
    {
     "data": {
      "text/plain": [
       "453"
      ]
     },
     "execution_count": 32,
     "metadata": {},
     "output_type": "execute_result"
    }
   ],
   "source": [
    "len(set(pycg_edges))"
   ]
  },
  {
   "cell_type": "code",
   "execution_count": 23,
   "metadata": {},
   "outputs": [
    {
     "data": {
      "image/png": "[encoded data removed]",
      "text/plain": [
       "<Figure size 640x480 with 1 Axes>"
      ]
     },
     "metadata": {},
     "output_type": "display_data"
    }
   ],
   "source": [
    "from matplotlib_venn import venn2_unweighted \n",
    "from matplotlib import pyplot as plt\n",
    "\n",
    "# depict venn diagram\n",
    "venn2_unweighted(subsets = (len(set(dynapyt_graph.keys())) -len(set(dynapyt_graph.keys()) & set(pycg_graph.keys())), \n",
    "                        len(set(pycg_graph.keys())) - len(set(dynapyt_graph.keys()) & set(pycg_graph.keys())), \n",
    "                        len(set(dynapyt_graph.keys()) & set(pycg_graph.keys()))),\n",
    "                set_labels = ('DynaPyt', \n",
    "                            'PyCG'),\n",
    "                set_colors=(\"orange\",\n",
    "                            \"blue\"),alpha=0.7)\n",
    "plt.title(\"Caller Counts\")\n",
    "plt.show()"
   ]
  },
  {
   "cell_type": "code",
   "execution_count": 24,
   "metadata": {},
   "outputs": [
    {
     "data": {
      "image/png": "[encoded data removed]",
      "text/plain": [
       "<Figure size 640x480 with 1 Axes>"
      ]
     },
     "metadata": {},
     "output_type": "display_data"
    }
   ],
   "source": [
    "from matplotlib_venn import venn2_unweighted \n",
    "from matplotlib import pyplot as plt\n",
    "\n",
    "# depict venn diagram\n",
    "venn2_unweighted(subsets = (len(set(all_dynapyt)) -len(set(all_dynapyt)& set(all_pycg)), \n",
    "                        len(set(all_pycg)) - len(set(all_dynapyt)& set(all_pycg)), \n",
    "                        len(set(all_dynapyt)& set(all_pycg))),\n",
    "                set_labels = ('DynaPyt', \n",
    "                            'PyCG'),\n",
    "                set_colors=(\"orange\",\n",
    "                            \"blue\"),alpha=0.7)\n",
    "plt.title(\"Callees\")\n",
    "plt.show()"
   ]
  },
  {
   "cell_type": "code",
   "execution_count": 25,
   "metadata": {},
   "outputs": [
    {
     "data": {
      "image/png": "[encoded data removed]",
      "text/plain": [
       "<Figure size 640x480 with 1 Axes>"
      ]
     },
     "metadata": {},
     "output_type": "display_data"
    }
   ],
   "source": [
    "from matplotlib_venn import venn2_unweighted \n",
    "from matplotlib import pyplot as plt\n",
    "\n",
    "# depict venn diagram\n",
    "venn2_unweighted(subsets = (len(set(dyna_edges)) -len(set(dyna_edges)& set(pycg_edges)), \n",
    "                        len(set(pycg_edges)) - len(set(dyna_edges)& set(pycg_edges)), \n",
    "                        len(set(dyna_edges)& set(pycg_edges))),\n",
    "                set_labels = ('DynaPyt', \n",
    "                            'PyCG'),\n",
    "                set_colors=(\"orange\",\n",
    "                            \"blue\"),alpha=0.7)\n",
    "plt.title(\"Edges\")\n",
    "plt.show()"
   ]
  },
  {
   "cell_type": "markdown",
   "metadata": {},
   "source": [
    "## Project 2"
   ]
  },
  {
   "cell_type": "code",
   "execution_count": 26,
   "metadata": {},
   "outputs": [],
   "source": [
    "rs_graph = remove_location(\"/DyPyBench/new_dyna_output/project2.json\")\n",
    "\n",
    "with open(\"/DyPyBench/DynaPyt_output/dynapyt_2.json\", \"w\") as dpt:\n",
    "    json.dump(rs_graph, dpt)"
   ]
  },
  {
   "cell_type": "code",
   "execution_count": 27,
   "metadata": {},
   "outputs": [
    {
     "name": "stdout",
     "output_type": "stream",
     "text": [
      "[('unicodec.normalization', 'unicodec'), ('unicodec.main', 'unicodec'), ('stat.Stat', 'Stat'), ('threading', 'thread')]\n",
      "122\n",
      "122\n"
     ]
    },
    {
     "data": {
      "text/plain": [
       "0.9918032786885246"
      ]
     },
     "execution_count": 27,
     "metadata": {},
     "output_type": "execute_result"
    }
   ],
   "source": [
    "pycg_graph = prepare_pycg_graph(\n",
    "    \"/DyPyBench/project1_pycg.json\", \n",
    "    replace_list=[\n",
    "        (\"grab.\", \"\"),\n",
    "        (\"threading\", \"thread\")\n",
    "        ])\n",
    "\n",
    "dynapyt_graph = prepare_dynapyt_graph(\n",
    "    \"/DyPyBench/DynaPyt_output/dynapyt_1.json\", \n",
    "    1, \"grab\", \n",
    "    replace_list=[\n",
    "        (\"unicodec.normalization\", \"unicodec\"),\n",
    "        (\"unicodec.main\", \"unicodec\"),\n",
    "        (\"stat.Stat\", \"Stat\"),\n",
    "        (\"threading\", \"thread\")\n",
    "        ])\n",
    "len(set(dynapyt_graph.keys()) & set(pycg_graph.keys())) / (len(set(dynapyt_graph.keys())))"
   ]
  },
  {
   "cell_type": "markdown",
   "metadata": {},
   "source": [
    "## Project 3 flask-api"
   ]
  },
  {
   "cell_type": "code",
   "execution_count": 35,
   "metadata": {},
   "outputs": [],
   "source": [
    "rs_graph = remove_location(\"/DyPyBench/new_dyna_output/project3.json\")\n",
    "\n",
    "with open(\"/DyPyBench/DynaPyt_output/dynapyt_3.json\", \"w\") as dpt:\n",
    "    json.dump(rs_graph, dpt)"
   ]
  },
  {
   "cell_type": "code",
   "execution_count": 36,
   "metadata": {},
   "outputs": [
    {
     "name": "stdout",
     "output_type": "stream",
     "text": [
      "[('app.', ''), ('blueprints.', ''), ('werkzeug.routing.map.Map', 'flask.Flask.url_map'), ('werkzeug.wrappers.response.Response', 'response.APIResponse'), ('templating.', '')]\n",
      "51\n",
      "51\n"
     ]
    },
    {
     "data": {
      "text/plain": [
       "1.0"
      ]
     },
     "execution_count": 36,
     "metadata": {},
     "output_type": "execute_result"
    }
   ],
   "source": [
    "\n",
    "pycg_graph = prepare_pycg_graph(\n",
    "    \"/DyPyBench/project3_pycg.json\", \n",
    "    replace_list=[\n",
    "        (\"flask_api.\", \"\"), \n",
    "        (\"app.\", \"\"),\n",
    "        (\"set_parsers.decorator.\", \"\")\n",
    "        ])\n",
    "\n",
    "dynapyt_graph = prepare_dynapyt_graph(\n",
    "    \"/DyPyBench/DynaPyt_output/dynapyt_3.json\", \n",
    "    3, \"flask_api\", \n",
    "    replace_list=[\n",
    "        (\"app.\", \"\"), \n",
    "        (\"blueprints.\", \"\"),\n",
    "        (\"werkzeug.routing.map.Map\", \"flask.Flask.url_map\"),\n",
    "        (\"werkzeug.wrappers.response.Response\", \"response.APIResponse\"),\n",
    "        (\"templating.\", \"\"),\n",
    "        \n",
    "        ])\n",
    "len(set(dynapyt_graph.keys()) & set(pycg_graph.keys())) / (len(set(dynapyt_graph.keys())))"
   ]
  },
  {
   "cell_type": "code",
   "execution_count": 39,
   "metadata": {},
   "outputs": [
    {
     "data": {
      "text/plain": [
       "51"
      ]
     },
     "execution_count": 39,
     "metadata": {},
     "output_type": "execute_result"
    }
   ],
   "source": [
    "len(set(dynapyt_graph.keys()) & set(pycg_graph.keys()))"
   ]
  },
  {
   "cell_type": "code",
   "execution_count": 40,
   "metadata": {},
   "outputs": [
    {
     "data": {
      "text/plain": [
       "0.5405405405405406"
      ]
     },
     "execution_count": 40,
     "metadata": {},
     "output_type": "execute_result"
    }
   ],
   "source": [
    "all_pycg = []\n",
    "for k, v in pycg_graph.items():\n",
    "    if k in dynapyt_graph.keys():\n",
    "        all_pycg.extend([\" \".join(e.split(\".\")) for e in v])\n",
    "\n",
    "all_dynapyt = []\n",
    "for k, v in dynapyt_graph.items():\n",
    "    all_dynapyt.extend([\" \".join(e.split(\".\")) for e in v])\n",
    "\n",
    "len(set(all_dynapyt)& set(all_pycg))/len(set(all_dynapyt))"
   ]
  },
  {
   "cell_type": "code",
   "execution_count": 43,
   "metadata": {},
   "outputs": [
    {
     "data": {
      "text/plain": [
       "60"
      ]
     },
     "execution_count": 43,
     "metadata": {},
     "output_type": "execute_result"
    }
   ],
   "source": [
    "len(set(all_dynapyt)& set(all_pycg))"
   ]
  },
  {
   "cell_type": "code",
   "execution_count": 44,
   "metadata": {},
   "outputs": [],
   "source": [
    "exclude = []\n",
    "for ad in all_dynapyt:\n",
    "    ads = ad.split(\" \")\n",
    "    for f in funcs:\n",
    "        if ads[-1] ==  f:\n",
    "            exclude.append(ad)\n",
    "            break\n",
    "    "
   ]
  },
  {
   "cell_type": "code",
   "execution_count": 45,
   "metadata": {},
   "outputs": [
    {
     "data": {
      "text/plain": [
       "0.5857988165680473"
      ]
     },
     "execution_count": 45,
     "metadata": {},
     "output_type": "execute_result"
    }
   ],
   "source": [
    "dyna_edges = [(k, e) for k,v in dynapyt_graph.items() for e in v]\n",
    "pycg_edges = [(k, e) for k,v in pycg_graph.items() for e in v]\n",
    "\n",
    "len(set(dyna_edges)&set(pycg_edges))/len(set(dyna_edges))"
   ]
  },
  {
   "cell_type": "code",
   "execution_count": 48,
   "metadata": {},
   "outputs": [
    {
     "data": {
      "text/plain": [
       "143"
      ]
     },
     "execution_count": 48,
     "metadata": {},
     "output_type": "execute_result"
    }
   ],
   "source": [
    "len(set(pycg_edges))"
   ]
  },
  {
   "cell_type": "code",
   "execution_count": 35,
   "metadata": {},
   "outputs": [],
   "source": [
    "print_similar_keys(dynapyt_graph, pycg_graph)"
   ]
  },
  {
   "cell_type": "markdown",
   "metadata": {},
   "source": [
    "### Callers Venn"
   ]
  },
  {
   "cell_type": "code",
   "execution_count": 36,
   "metadata": {},
   "outputs": [
    {
     "data": {
      "image/png": "[encoded data removed]",
      "text/plain": [
       "<Figure size 640x480 with 1 Axes>"
      ]
     },
     "metadata": {},
     "output_type": "display_data"
    }
   ],
   "source": [
    "from matplotlib_venn import venn2_unweighted \n",
    "from matplotlib import pyplot as plt\n",
    "\n",
    "# depict venn diagram\n",
    "venn2_unweighted(subsets = (len(set(dynapyt_graph.keys())) -len(set(dynapyt_graph.keys()) & set(pycg_graph.keys())), \n",
    "                        len(set(pycg_graph.keys())) - len(set(dynapyt_graph.keys()) & set(pycg_graph.keys())), \n",
    "                        len(set(dynapyt_graph.keys()) & set(pycg_graph.keys()))),\n",
    "                set_labels = ('DynaPyt', \n",
    "                            'PyCG'),\n",
    "                set_colors=(\"orange\",\n",
    "                            \"blue\"),alpha=0.7)\n",
    "plt.title(\"Caller Counts\")\n",
    "plt.show()"
   ]
  },
  {
   "cell_type": "code",
   "execution_count": 37,
   "metadata": {},
   "outputs": [
    {
     "data": {
      "image/png": "[encoded data removed]",
      "text/plain": [
       "<Figure size 640x480 with 1 Axes>"
      ]
     },
     "metadata": {},
     "output_type": "display_data"
    }
   ],
   "source": [
    "from matplotlib_venn import venn2_unweighted \n",
    "from matplotlib import pyplot as plt\n",
    "\n",
    "# depict venn diagram\n",
    "venn2_unweighted(subsets = (len(set(all_dynapyt)) -len(set(all_dynapyt)& set(all_pycg)), \n",
    "                        len(set(all_pycg)) - len(set(all_dynapyt)& set(all_pycg)), \n",
    "                        len(set(all_dynapyt)& set(all_pycg))),\n",
    "                set_labels = ('DynaPyt', \n",
    "                            'PyCG'),\n",
    "                set_colors=(\"orange\",\n",
    "                            \"blue\"),alpha=0.7)\n",
    "plt.title(\"Callees edges\")\n",
    "plt.show()"
   ]
  },
  {
   "cell_type": "code",
   "execution_count": 38,
   "metadata": {},
   "outputs": [
    {
     "data": {
      "image/png": "[encoded data removed]",
      "text/plain": [
       "<Figure size 640x480 with 1 Axes>"
      ]
     },
     "metadata": {},
     "output_type": "display_data"
    }
   ],
   "source": [
    "from matplotlib_venn import venn2_unweighted \n",
    "from matplotlib import pyplot as plt\n",
    "\n",
    "# depict venn diagram\n",
    "venn2_unweighted(subsets = (len(set(dyna_edges)) -len(set(dyna_edges)& set(pycg_edges)), \n",
    "                        len(set(pycg_edges)) - len(set(dyna_edges)& set(pycg_edges)), \n",
    "                        len(set(dyna_edges)& set(pycg_edges))),\n",
    "                set_labels = ('DynaPyt', \n",
    "                            'PyCG'),\n",
    "                set_colors=(\"orange\",\n",
    "                            \"blue\"),alpha=0.7)\n",
    "plt.title(\"Edges\")\n",
    "plt.show()"
   ]
  },
  {
   "cell_type": "markdown",
   "metadata": {},
   "source": [
    "## Project 4 schedule"
   ]
  },
  {
   "cell_type": "code",
   "execution_count": 49,
   "metadata": {},
   "outputs": [],
   "source": [
    "rs_graph = remove_location(\"/DyPyBench/new_dyna_output/project4.json\")\n",
    "\n",
    "with open(\"/DyPyBench/DynaPyt_output/dynapyt_4.json\", \"w\") as dpt:\n",
    "    json.dump(rs_graph, dpt)"
   ]
  },
  {
   "cell_type": "code",
   "execution_count": 50,
   "metadata": {},
   "outputs": [
    {
     "name": "stdout",
     "output_type": "stream",
     "text": [
      "[('getLogger', 'Logger'), ('random.Random', 'random'), ('mock_datetime.<locals>.MockDate', 'datetime'), ('test_schedule.', ''), ('<locals>.', ''), ('__repr__.', '')]\n",
      "40\n",
      "40\n"
     ]
    },
    {
     "data": {
      "text/plain": [
       "1.0"
      ]
     },
     "execution_count": 50,
     "metadata": {},
     "output_type": "execute_result"
    }
   ],
   "source": [
    "pycg_graph = prepare_pycg_graph(\n",
    "    \"/DyPyBench/project4_pycg.json\", \n",
    "    replace_list=[(\"getLogger\", \"Logger\"), (\"__repr__.\", \"\"), (\"repeat.\", \"\")])\n",
    "\n",
    "dynapyt_graph = prepare_dynapyt_graph(\n",
    "    \"/DyPyBench/DynaPyt_output/dynapyt_4.json\", \n",
    "    4, \"flask_api\", \n",
    "    replace_list=[(\"getLogger\", \"Logger\"), \n",
    "                  (\"random.Random\", \"random\"),\n",
    "                  (\"mock_datetime.<locals>.MockDate\", \"datetime\"),\n",
    "                  (\"test_schedule.\", \"\"),\n",
    "                  (\"<locals>.\", \"\"),\n",
    "                  (\"__repr__.\", \"\")])\n",
    "len(set(dynapyt_graph.keys()) & set(pycg_graph.keys())) / (len(set(dynapyt_graph.keys())))"
   ]
  },
  {
   "cell_type": "code",
   "execution_count": 51,
   "metadata": {},
   "outputs": [],
   "source": [
    "all_pycg = []\n",
    "for k, v in pycg_graph.items():\n",
    "    if k in dynapyt_graph.keys():\n",
    "        all_pycg.extend([\" \".join(e.split(\".\")) for e in v])\n",
    "\n",
    "all_dynapyt = []\n",
    "for k, v in dynapyt_graph.items():\n",
    "    all_dynapyt.extend([\" \".join(e.split(\".\")) for e in v])"
   ]
  },
  {
   "cell_type": "code",
   "execution_count": 52,
   "metadata": {},
   "outputs": [
    {
     "data": {
      "text/plain": [
       "0.6065573770491803"
      ]
     },
     "execution_count": 52,
     "metadata": {},
     "output_type": "execute_result"
    }
   ],
   "source": [
    "len(set(all_dynapyt)& set(all_pycg))/len(set(all_dynapyt))"
   ]
  },
  {
   "cell_type": "code",
   "execution_count": 55,
   "metadata": {},
   "outputs": [
    {
     "data": {
      "text/plain": [
       "46"
      ]
     },
     "execution_count": 55,
     "metadata": {},
     "output_type": "execute_result"
    }
   ],
   "source": [
    "len(set(all_pycg))"
   ]
  },
  {
   "cell_type": "code",
   "execution_count": 56,
   "metadata": {},
   "outputs": [
    {
     "data": {
      "text/plain": [
       "0.6021505376344086"
      ]
     },
     "execution_count": 56,
     "metadata": {},
     "output_type": "execute_result"
    }
   ],
   "source": [
    "dyna_edges = [(k, e) for k,v in dynapyt_graph.items() for e in v]\n",
    "pycg_edges = [(k, e) for k,v in pycg_graph.items() for e in v]\n",
    "\n",
    "len(set(dyna_edges)&set(pycg_edges))/len(set(dyna_edges))"
   ]
  },
  {
   "cell_type": "code",
   "execution_count": 59,
   "metadata": {},
   "outputs": [
    {
     "data": {
      "text/plain": [
       "56"
      ]
     },
     "execution_count": 59,
     "metadata": {},
     "output_type": "execute_result"
    }
   ],
   "source": [
    "len(set(dyna_edges)&set(pycg_edges))"
   ]
  },
  {
   "cell_type": "code",
   "execution_count": 44,
   "metadata": {},
   "outputs": [
    {
     "data": {
      "image/png": "[encoded data removed]",
      "text/plain": [
       "<Figure size 640x480 with 1 Axes>"
      ]
     },
     "metadata": {},
     "output_type": "display_data"
    }
   ],
   "source": [
    "from matplotlib_venn import venn2_unweighted \n",
    "from matplotlib import pyplot as plt\n",
    "\n",
    "# depict venn diagram\n",
    "venn2_unweighted(subsets = (len(set(dynapyt_graph.keys())) -len(set(dynapyt_graph.keys()) & set(pycg_graph.keys())), \n",
    "                        len(set(pycg_graph.keys())) - len(set(dynapyt_graph.keys()) & set(pycg_graph.keys())), \n",
    "                        len(set(dynapyt_graph.keys()) & set(pycg_graph.keys()))),\n",
    "                set_labels = ('DynaPyt', \n",
    "                            'PyCG'),\n",
    "                set_colors=(\"orange\",\n",
    "                            \"blue\"),alpha=0.7)\n",
    "plt.title(\"Caller Counts\")\n",
    "plt.show()"
   ]
  },
  {
   "cell_type": "code",
   "execution_count": 45,
   "metadata": {},
   "outputs": [
    {
     "data": {
      "image/png": "[encoded data removed]",
      "text/plain": [
       "<Figure size 640x480 with 1 Axes>"
      ]
     },
     "metadata": {},
     "output_type": "display_data"
    }
   ],
   "source": [
    "from matplotlib_venn import venn2_unweighted \n",
    "from matplotlib import pyplot as plt\n",
    "\n",
    "# depict venn diagram\n",
    "venn2_unweighted(subsets = (len(set(all_dynapyt)) -len(set(all_dynapyt)& set(all_pycg)), \n",
    "                        len(set(all_pycg)) - len(set(all_dynapyt)& set(all_pycg)), \n",
    "                        len(set(all_dynapyt)& set(all_pycg))),\n",
    "                set_labels = ('DynaPyt', \n",
    "                            'PyCG'),\n",
    "                set_colors=(\"orange\",\n",
    "                            \"blue\"),alpha=0.7)\n",
    "plt.title(\"Callees Counts\")\n",
    "plt.show()"
   ]
  },
  {
   "cell_type": "markdown",
   "metadata": {},
   "source": [
    "## Project 6"
   ]
  },
  {
   "cell_type": "code",
   "execution_count": 39,
   "metadata": {},
   "outputs": [],
   "source": [
    "rs_graph = remove_location(\"/DyPyBench/new_dyna_output/project6.json\")\n",
    "\n",
    "with open(\"/DyPyBench/DynaPyt_output/dynapyt_6.json\", \"w\") as dpt:\n",
    "    json.dump(rs_graph, dpt)"
   ]
  },
  {
   "cell_type": "code",
   "execution_count": 41,
   "metadata": {},
   "outputs": [
    {
     "name": "stdout",
     "output_type": "stream",
     "text": [
      "[]\n",
      "13\n",
      "13\n"
     ]
    },
    {
     "data": {
      "text/plain": [
       "1.0"
      ]
     },
     "execution_count": 41,
     "metadata": {},
     "output_type": "execute_result"
    }
   ],
   "source": [
    "pycg_graph = prepare_pycg_graph(\"/DyPyBench/pycg_project6.json\", replace_list=[])\n",
    "dynapyt_graph = prepare_dynapyt_graph(\"/DyPyBench/DynaPyt_output/dynapyt_6.json\", 6, \"supervisor.\", \n",
    "                                      replace_list=[])\n",
    "len(set(dynapyt_graph.keys()) & set(pycg_graph.keys())) / (len(set(dynapyt_graph.keys())))"
   ]
  },
  {
   "cell_type": "code",
   "execution_count": 42,
   "metadata": {},
   "outputs": [
    {
     "data": {
      "text/plain": [
       "13"
      ]
     },
     "execution_count": 42,
     "metadata": {},
     "output_type": "execute_result"
    }
   ],
   "source": [
    "len(set(dynapyt_graph.keys()) & set(pycg_graph.keys()))"
   ]
  },
  {
   "cell_type": "code",
   "execution_count": 43,
   "metadata": {},
   "outputs": [],
   "source": [
    "all_pycg = []\n",
    "for k, v in pycg_graph.items():\n",
    "    if k in dynapyt_graph.keys():\n",
    "        all_pycg.extend([\" \".join(e.split(\".\")) for e in v])\n",
    "\n",
    "all_dynapyt = []\n",
    "for k, v in dynapyt_graph.items():\n",
    "    all_dynapyt.extend([\" \".join(e.split(\".\")) for e in v])"
   ]
  },
  {
   "cell_type": "code",
   "execution_count": 44,
   "metadata": {},
   "outputs": [
    {
     "data": {
      "text/plain": [
       "0.45454545454545453"
      ]
     },
     "execution_count": 44,
     "metadata": {},
     "output_type": "execute_result"
    }
   ],
   "source": [
    "len(set(all_dynapyt)& set(all_pycg))/len(set(all_dynapyt))"
   ]
  },
  {
   "cell_type": "code",
   "execution_count": 45,
   "metadata": {},
   "outputs": [
    {
     "data": {
      "text/plain": [
       "10"
      ]
     },
     "execution_count": 45,
     "metadata": {},
     "output_type": "execute_result"
    }
   ],
   "source": [
    "len(set(all_dynapyt)& set(all_pycg))"
   ]
  },
  {
   "cell_type": "code",
   "execution_count": 46,
   "metadata": {},
   "outputs": [
    {
     "data": {
      "text/plain": [
       "22"
      ]
     },
     "execution_count": 46,
     "metadata": {},
     "output_type": "execute_result"
    }
   ],
   "source": [
    "len(set(all_pycg))"
   ]
  },
  {
   "cell_type": "code",
   "execution_count": 47,
   "metadata": {},
   "outputs": [
    {
     "data": {
      "text/plain": [
       "0.46153846153846156"
      ]
     },
     "execution_count": 47,
     "metadata": {},
     "output_type": "execute_result"
    }
   ],
   "source": [
    "dyna_edges = [(k, e) for k,v in dynapyt_graph.items() for e in v]\n",
    "pycg_edges = [(k, e) for k,v in pycg_graph.items() for e in v]\n",
    "\n",
    "len(set(dyna_edges)&set(pycg_edges))/len(set(dyna_edges))"
   ]
  },
  {
   "cell_type": "code",
   "execution_count": 48,
   "metadata": {},
   "outputs": [
    {
     "data": {
      "text/plain": [
       "12"
      ]
     },
     "execution_count": 48,
     "metadata": {},
     "output_type": "execute_result"
    }
   ],
   "source": [
    "len(set(dyna_edges)&set(pycg_edges))"
   ]
  },
  {
   "cell_type": "code",
   "execution_count": 49,
   "metadata": {},
   "outputs": [
    {
     "data": {
      "text/plain": [
       "26"
      ]
     },
     "execution_count": 49,
     "metadata": {},
     "output_type": "execute_result"
    }
   ],
   "source": [
    "len(set(dyna_edges))"
   ]
  },
  {
   "cell_type": "code",
   "execution_count": 50,
   "metadata": {},
   "outputs": [
    {
     "data": {
      "text/plain": [
       "3851"
      ]
     },
     "execution_count": 50,
     "metadata": {},
     "output_type": "execute_result"
    }
   ],
   "source": [
    "len(set(pycg_edges))"
   ]
  },
  {
   "cell_type": "markdown",
   "metadata": {},
   "source": [
    "## Project 7"
   ]
  },
  {
   "cell_type": "code",
   "execution_count": 51,
   "metadata": {},
   "outputs": [],
   "source": [
    "rs_graph = remove_location(\"/DyPyBench/new_dyna_output/project7.json\")\n",
    "\n",
    "with open(\"/DyPyBench/DynaPyt_output/dynapyt_7.json\", \"w\") as dpt:\n",
    "    json.dump(rs_graph, dpt)"
   ]
  },
  {
   "cell_type": "code",
   "execution_count": 52,
   "metadata": {},
   "outputs": [
    {
     "name": "stdout",
     "output_type": "stream",
     "text": [
      "[]\n",
      "74\n",
      "74\n"
     ]
    },
    {
     "data": {
      "text/plain": [
       "1.0"
      ]
     },
     "execution_count": 52,
     "metadata": {},
     "output_type": "execute_result"
    }
   ],
   "source": [
    "pycg_graph = prepare_pycg_graph(\"/DyPyBench/pycg_project7.json\", replace_list=[])\n",
    "dynapyt_graph = prepare_dynapyt_graph(\"/DyPyBench/DynaPyt_output/dynapyt_7.json\", 7, \"streamparse.\", \n",
    "                                      replace_list=[])\n",
    "len(set(dynapyt_graph.keys()) & set(pycg_graph.keys())) / (len(set(dynapyt_graph.keys())))"
   ]
  },
  {
   "cell_type": "code",
   "execution_count": 54,
   "metadata": {},
   "outputs": [
    {
     "data": {
      "text/plain": [
       "626"
      ]
     },
     "execution_count": 54,
     "metadata": {},
     "output_type": "execute_result"
    }
   ],
   "source": [
    "len(set(pycg_graph.keys()))"
   ]
  },
  {
   "cell_type": "code",
   "execution_count": 61,
   "metadata": {},
   "outputs": [
    {
     "data": {
      "text/plain": [
       "74"
      ]
     },
     "execution_count": 61,
     "metadata": {},
     "output_type": "execute_result"
    }
   ],
   "source": [
    "len(set(dynapyt_graph.keys()) & set(pycg_graph.keys()))"
   ]
  },
  {
   "cell_type": "code",
   "execution_count": 55,
   "metadata": {},
   "outputs": [],
   "source": [
    "all_pycg = []\n",
    "for k, v in pycg_graph.items():\n",
    "    if k in dynapyt_graph.keys():\n",
    "        all_pycg.extend([\" \".join(e.split(\".\")) for e in v])\n",
    "\n",
    "all_dynapyt = []\n",
    "for k, v in dynapyt_graph.items():\n",
    "    all_dynapyt.extend([\" \".join(e.split(\".\")) for e in v])"
   ]
  },
  {
   "cell_type": "code",
   "execution_count": 69,
   "metadata": {},
   "outputs": [
    {
     "data": {
      "text/plain": [
       "0.5394736842105263"
      ]
     },
     "execution_count": 69,
     "metadata": {},
     "output_type": "execute_result"
    }
   ],
   "source": [
    "len(set(all_dynapyt)& set(all_pycg))/len(set(all_dynapyt))"
   ]
  },
  {
   "cell_type": "code",
   "execution_count": 62,
   "metadata": {},
   "outputs": [
    {
     "data": {
      "text/plain": [
       "60"
      ]
     },
     "execution_count": 62,
     "metadata": {},
     "output_type": "execute_result"
    }
   ],
   "source": [
    "len(set(all_dynapyt)& set(all_pycg))"
   ]
  },
  {
   "cell_type": "code",
   "execution_count": 57,
   "metadata": {},
   "outputs": [
    {
     "data": {
      "text/plain": [
       "93"
      ]
     },
     "execution_count": 57,
     "metadata": {},
     "output_type": "execute_result"
    }
   ],
   "source": [
    "len(set(all_pycg))"
   ]
  },
  {
   "cell_type": "code",
   "execution_count": 58,
   "metadata": {},
   "outputs": [
    {
     "data": {
      "text/plain": [
       "0.5052264808362369"
      ]
     },
     "execution_count": 58,
     "metadata": {},
     "output_type": "execute_result"
    }
   ],
   "source": [
    "dyna_edges = [(k, e) for k,v in dynapyt_graph.items() for e in v]\n",
    "pycg_edges = [(k, e) for k,v in pycg_graph.items() for e in v]\n",
    "\n",
    "len(set(dyna_edges)&set(pycg_edges))/len(set(dyna_edges))"
   ]
  },
  {
   "cell_type": "code",
   "execution_count": 63,
   "metadata": {},
   "outputs": [
    {
     "data": {
      "text/plain": [
       "145"
      ]
     },
     "execution_count": 63,
     "metadata": {},
     "output_type": "execute_result"
    }
   ],
   "source": [
    "len(set(dyna_edges)&set(pycg_edges))"
   ]
  },
  {
   "cell_type": "code",
   "execution_count": 60,
   "metadata": {},
   "outputs": [
    {
     "data": {
      "text/plain": [
       "991"
      ]
     },
     "execution_count": 60,
     "metadata": {},
     "output_type": "execute_result"
    }
   ],
   "source": [
    "len(set(pycg_edges))"
   ]
  },
  {
   "cell_type": "code",
   "execution_count": 70,
   "metadata": {},
   "outputs": [
    {
     "data": {
      "image/png": "[encoded data removed]",
      "text/plain": [
       "<Figure size 640x480 with 1 Axes>"
      ]
     },
     "metadata": {},
     "output_type": "display_data"
    }
   ],
   "source": [
    "from matplotlib_venn import venn2_unweighted \n",
    "from matplotlib import pyplot as plt\n",
    "\n",
    "# depict venn diagram\n",
    "venn2_unweighted(subsets = (len(set(dynapyt_graph.keys())) -len(set(dynapyt_graph.keys()) & set(pycg_graph.keys())), \n",
    "                        len(set(pycg_graph.keys())) - len(set(dynapyt_graph.keys()) & set(pycg_graph.keys())), \n",
    "                        len(set(dynapyt_graph.keys()) & set(pycg_graph.keys()))),\n",
    "                set_labels = ('DynaPyt', \n",
    "                            'PyCG'),\n",
    "                set_colors=(\"orange\",\n",
    "                            \"blue\"),alpha=0.7)\n",
    "plt.title(\"Caller Counts\")\n",
    "plt.show()"
   ]
  },
  {
   "cell_type": "code",
   "execution_count": 71,
   "metadata": {},
   "outputs": [
    {
     "data": {
      "image/png": "[encoded data removed]",
      "text/plain": [
       "<Figure size 640x480 with 1 Axes>"
      ]
     },
     "metadata": {},
     "output_type": "display_data"
    }
   ],
   "source": [
    "from matplotlib_venn import venn2_unweighted \n",
    "from matplotlib import pyplot as plt\n",
    "\n",
    "# depict venn diagram\n",
    "venn2_unweighted(subsets = (len(set(all_dynapyt)) -len(set(all_dynapyt)& set(all_pycg)), \n",
    "                        len(set(all_pycg)) - len(set(all_dynapyt)& set(all_pycg)), \n",
    "                        len(set(all_dynapyt)& set(all_pycg))),\n",
    "                set_labels = ('DynaPyt', \n",
    "                            'PyCG'),\n",
    "                set_colors=(\"orange\",\n",
    "                            \"blue\"),alpha=0.7)\n",
    "plt.title(\"Callees Counts\")\n",
    "plt.show()"
   ]
  },
  {
   "cell_type": "markdown",
   "metadata": {},
   "source": [
    "## Project 8"
   ]
  },
  {
   "cell_type": "code",
   "execution_count": 65,
   "metadata": {},
   "outputs": [],
   "source": [
    "rs_graph = remove_location(\"/DyPyBench/new_dyna_output/project8.json\")\n",
    "\n",
    "with open(\"/DyPyBench/DynaPyt_output/dynapyt_8.json\", \"w\") as dpt:\n",
    "    json.dump(rs_graph, dpt)"
   ]
  },
  {
   "cell_type": "code",
   "execution_count": 67,
   "metadata": {},
   "outputs": [
    {
     "name": "stdout",
     "output_type": "stream",
     "text": [
      "[]\n",
      "18\n",
      "18\n"
     ]
    },
    {
     "data": {
      "text/plain": [
       "1.0"
      ]
     },
     "execution_count": 67,
     "metadata": {},
     "output_type": "execute_result"
    }
   ],
   "source": [
    "pycg_graph = prepare_pycg_graph(\"/DyPyBench/pycg_project8.json\", replace_list=[])\n",
    "dynapyt_graph = prepare_dynapyt_graph(\"/DyPyBench/DynaPyt_output/dynapyt_8.json\", 8, \"dh_virtualenv.\", \n",
    "                                      replace_list=[])\n",
    "len(set(dynapyt_graph.keys()) & set(pycg_graph.keys())) / (len(set(dynapyt_graph.keys())))"
   ]
  },
  {
   "cell_type": "code",
   "execution_count": 77,
   "metadata": {},
   "outputs": [
    {
     "data": {
      "text/plain": [
       "18"
      ]
     },
     "execution_count": 77,
     "metadata": {},
     "output_type": "execute_result"
    }
   ],
   "source": [
    "len(set(dynapyt_graph.keys()) & set(pycg_graph.keys()))"
   ]
  },
  {
   "cell_type": "code",
   "execution_count": 68,
   "metadata": {},
   "outputs": [],
   "source": [
    "all_pycg = []\n",
    "for k, v in pycg_graph.items():\n",
    "    if k in dynapyt_graph.keys():\n",
    "        all_pycg.extend([\" \".join(e.split(\".\")) for e in v])\n",
    "\n",
    "all_dynapyt = []\n",
    "for k, v in dynapyt_graph.items():\n",
    "    all_dynapyt.extend([\" \".join(e.split(\".\")) for e in v])"
   ]
  },
  {
   "cell_type": "code",
   "execution_count": 69,
   "metadata": {},
   "outputs": [
    {
     "data": {
      "text/plain": [
       "0.30303030303030304"
      ]
     },
     "execution_count": 69,
     "metadata": {},
     "output_type": "execute_result"
    }
   ],
   "source": [
    "len(set(all_dynapyt)& set(all_pycg))/len(set(all_dynapyt))"
   ]
  },
  {
   "cell_type": "code",
   "execution_count": 76,
   "metadata": {},
   "outputs": [
    {
     "data": {
      "text/plain": [
       "20"
      ]
     },
     "execution_count": 76,
     "metadata": {},
     "output_type": "execute_result"
    }
   ],
   "source": [
    "len(set(all_dynapyt)& set(all_pycg))"
   ]
  },
  {
   "cell_type": "code",
   "execution_count": 72,
   "metadata": {},
   "outputs": [
    {
     "data": {
      "text/plain": [
       "0.2872340425531915"
      ]
     },
     "execution_count": 72,
     "metadata": {},
     "output_type": "execute_result"
    }
   ],
   "source": [
    "dyna_edges = [(k, e) for k,v in dynapyt_graph.items() for e in v]\n",
    "pycg_edges = [(k, e) for k,v in pycg_graph.items() for e in v]\n",
    "\n",
    "len(set(dyna_edges)&set(pycg_edges))/len(set(dyna_edges))"
   ]
  },
  {
   "cell_type": "code",
   "execution_count": 75,
   "metadata": {},
   "outputs": [
    {
     "data": {
      "text/plain": [
       "27"
      ]
     },
     "execution_count": 75,
     "metadata": {},
     "output_type": "execute_result"
    }
   ],
   "source": [
    "len(set(dyna_edges)&set(pycg_edges))"
   ]
  },
  {
   "cell_type": "code",
   "execution_count": null,
   "metadata": {},
   "outputs": [],
   "source": [
    "from matplotlib_venn import venn2_unweighted \n",
    "from matplotlib import pyplot as plt\n",
    "\n",
    "# depict venn diagram\n",
    "venn2_unweighted(subsets = (len(set(dynapyt_graph.keys())) -len(set(dynapyt_graph.keys()) & set(pycg_graph.keys())), \n",
    "                        len(set(pycg_graph.keys())) - len(set(dynapyt_graph.keys()) & set(pycg_graph.keys())), \n",
    "                        len(set(dynapyt_graph.keys()) & set(pycg_graph.keys()))),\n",
    "                set_labels = ('DynaPyt', \n",
    "                            'PyCG'),\n",
    "                set_colors=(\"orange\",\n",
    "                            \"blue\"),alpha=0.7)\n",
    "plt.title(\"Caller Counts\")\n",
    "plt.show()"
   ]
  },
  {
   "cell_type": "markdown",
   "metadata": {},
   "source": [
    "## Project 9"
   ]
  },
  {
   "cell_type": "code",
   "execution_count": 81,
   "metadata": {},
   "outputs": [],
   "source": [
    "rs_graph = remove_location(\"/DyPyBench/new_dyna_output/project9.json\")\n",
    "\n",
    "with open(\"/DyPyBench/DynaPyt_output/dynapyt_9.json\", \"w\") as dpt:\n",
    "    json.dump(rs_graph, dpt)"
   ]
  },
  {
   "cell_type": "code",
   "execution_count": 83,
   "metadata": {},
   "outputs": [
    {
     "name": "stdout",
     "output_type": "stream",
     "text": [
      "[]\n",
      "85\n",
      "85\n"
     ]
    },
    {
     "data": {
      "text/plain": [
       "0.9764705882352941"
      ]
     },
     "execution_count": 83,
     "metadata": {},
     "output_type": "execute_result"
    }
   ],
   "source": [
    "pycg_graph = prepare_pycg_graph(\"/DyPyBench/pycg_project9.json\", replace_list=[])\n",
    "dynapyt_graph = prepare_dynapyt_graph(\"/DyPyBench/DynaPyt_output/dynapyt_9.json\", 9, \"pdoc.\", \n",
    "                                      replace_list=[])\n",
    "len(set(dynapyt_graph.keys()) & set(pycg_graph.keys())) / (len(set(dynapyt_graph.keys())))"
   ]
  },
  {
   "cell_type": "code",
   "execution_count": 96,
   "metadata": {},
   "outputs": [
    {
     "data": {
      "text/plain": [
       "83"
      ]
     },
     "execution_count": 96,
     "metadata": {},
     "output_type": "execute_result"
    }
   ],
   "source": [
    "len(set(dynapyt_graph.keys()) & set(pycg_graph.keys()))"
   ]
  },
  {
   "cell_type": "code",
   "execution_count": 86,
   "metadata": {},
   "outputs": [],
   "source": [
    "all_pycg = []\n",
    "for k, v in pycg_graph.items():\n",
    "    if k in dynapyt_graph.keys():\n",
    "        all_pycg.extend([\" \".join(e.split(\".\")) for e in v])\n",
    "\n",
    "all_dynapyt = []\n",
    "for k, v in dynapyt_graph.items():\n",
    "    all_dynapyt.extend([\" \".join(e.split(\".\")) for e in v])"
   ]
  },
  {
   "cell_type": "code",
   "execution_count": 87,
   "metadata": {},
   "outputs": [
    {
     "data": {
      "text/plain": [
       "0.5898876404494382"
      ]
     },
     "execution_count": 87,
     "metadata": {},
     "output_type": "execute_result"
    }
   ],
   "source": [
    "len(set(all_dynapyt)& set(all_pycg))/len(set(all_dynapyt))"
   ]
  },
  {
   "cell_type": "code",
   "execution_count": 95,
   "metadata": {},
   "outputs": [
    {
     "data": {
      "text/plain": [
       "105"
      ]
     },
     "execution_count": 95,
     "metadata": {},
     "output_type": "execute_result"
    }
   ],
   "source": [
    "len(set(all_dynapyt)& set(all_pycg))"
   ]
  },
  {
   "cell_type": "code",
   "execution_count": 91,
   "metadata": {},
   "outputs": [
    {
     "data": {
      "text/plain": [
       "0.6057347670250897"
      ]
     },
     "execution_count": 91,
     "metadata": {},
     "output_type": "execute_result"
    }
   ],
   "source": [
    "dyna_edges = [(k, e) for k,v in dynapyt_graph.items() for e in v]\n",
    "pycg_edges = [(k, e) for k,v in pycg_graph.items() for e in v]\n",
    "\n",
    "len(set(dyna_edges)&set(pycg_edges))/len(set(dyna_edges))"
   ]
  },
  {
   "cell_type": "code",
   "execution_count": 94,
   "metadata": {},
   "outputs": [
    {
     "data": {
      "text/plain": [
       "169"
      ]
     },
     "execution_count": 94,
     "metadata": {},
     "output_type": "execute_result"
    }
   ],
   "source": [
    "len(set(dyna_edges)&set(pycg_edges))"
   ]
  },
  {
   "cell_type": "markdown",
   "metadata": {},
   "source": [
    "## Project 11"
   ]
  },
  {
   "cell_type": "code",
   "execution_count": 97,
   "metadata": {},
   "outputs": [],
   "source": [
    "rs_graph = remove_location(\"/DyPyBench/new_dyna_output/project11.json\")\n",
    "\n",
    "with open(\"/DyPyBench/DynaPyt_output/dynapyt_11.json\", \"w\") as dpt:\n",
    "    json.dump(rs_graph, dpt)"
   ]
  },
  {
   "cell_type": "code",
   "execution_count": 99,
   "metadata": {},
   "outputs": [
    {
     "name": "stdout",
     "output_type": "stream",
     "text": [
      "[]\n",
      "9\n",
      "9\n"
     ]
    },
    {
     "data": {
      "text/plain": [
       "1.0"
      ]
     },
     "execution_count": 99,
     "metadata": {},
     "output_type": "execute_result"
    }
   ],
   "source": [
    "pycg_graph = prepare_pycg_graph(\"/DyPyBench/pycg_project11.json\", replace_list=[])\n",
    "dynapyt_graph = prepare_dynapyt_graph(\"/DyPyBench/DynaPyt_output/dynapyt_11.json\", 11, \"delegator.\", \n",
    "                                      replace_list=[])\n",
    "len(set(dynapyt_graph.keys()) & set(pycg_graph.keys())) / (len(set(dynapyt_graph.keys())))"
   ]
  },
  {
   "cell_type": "code",
   "execution_count": 112,
   "metadata": {},
   "outputs": [
    {
     "data": {
      "text/plain": [
       "9"
      ]
     },
     "execution_count": 112,
     "metadata": {},
     "output_type": "execute_result"
    }
   ],
   "source": [
    "len(set(dynapyt_graph.keys()) & set(pycg_graph.keys()))"
   ]
  },
  {
   "cell_type": "code",
   "execution_count": 102,
   "metadata": {},
   "outputs": [
    {
     "data": {
      "text/plain": [
       "62"
      ]
     },
     "execution_count": 102,
     "metadata": {},
     "output_type": "execute_result"
    }
   ],
   "source": [
    "len(set(pycg_graph.keys()))"
   ]
  },
  {
   "cell_type": "code",
   "execution_count": 103,
   "metadata": {},
   "outputs": [],
   "source": [
    "all_pycg = []\n",
    "for k, v in pycg_graph.items():\n",
    "    if k in dynapyt_graph.keys():\n",
    "        all_pycg.extend([\" \".join(e.split(\".\")) for e in v])\n",
    "\n",
    "all_dynapyt = []\n",
    "for k, v in dynapyt_graph.items():\n",
    "    all_dynapyt.extend([\" \".join(e.split(\".\")) for e in v])"
   ]
  },
  {
   "cell_type": "code",
   "execution_count": 104,
   "metadata": {},
   "outputs": [
    {
     "data": {
      "text/plain": [
       "0.6666666666666666"
      ]
     },
     "execution_count": 104,
     "metadata": {},
     "output_type": "execute_result"
    }
   ],
   "source": [
    "len(set(all_dynapyt)& set(all_pycg))/len(set(all_dynapyt))"
   ]
  },
  {
   "cell_type": "code",
   "execution_count": 111,
   "metadata": {},
   "outputs": [
    {
     "data": {
      "text/plain": [
       "12"
      ]
     },
     "execution_count": 111,
     "metadata": {},
     "output_type": "execute_result"
    }
   ],
   "source": [
    "len(set(all_dynapyt)& set(all_pycg))"
   ]
  },
  {
   "cell_type": "code",
   "execution_count": 106,
   "metadata": {},
   "outputs": [
    {
     "data": {
      "text/plain": [
       "22"
      ]
     },
     "execution_count": 106,
     "metadata": {},
     "output_type": "execute_result"
    }
   ],
   "source": [
    "len(set(all_pycg))"
   ]
  },
  {
   "cell_type": "code",
   "execution_count": 107,
   "metadata": {},
   "outputs": [
    {
     "data": {
      "text/plain": [
       "0.6842105263157895"
      ]
     },
     "execution_count": 107,
     "metadata": {},
     "output_type": "execute_result"
    }
   ],
   "source": [
    "dyna_edges = [(k, e) for k,v in dynapyt_graph.items() for e in v]\n",
    "pycg_edges = [(k, e) for k,v in pycg_graph.items() for e in v]\n",
    "\n",
    "len(set(dyna_edges)&set(pycg_edges))/len(set(dyna_edges))"
   ]
  },
  {
   "cell_type": "code",
   "execution_count": 109,
   "metadata": {},
   "outputs": [
    {
     "data": {
      "text/plain": [
       "50"
      ]
     },
     "execution_count": 109,
     "metadata": {},
     "output_type": "execute_result"
    }
   ],
   "source": [
    "len(set(pycg_edges))"
   ]
  },
  {
   "cell_type": "code",
   "execution_count": 110,
   "metadata": {},
   "outputs": [
    {
     "data": {
      "text/plain": [
       "13"
      ]
     },
     "execution_count": 110,
     "metadata": {},
     "output_type": "execute_result"
    }
   ],
   "source": [
    "len(set(dyna_edges)&set(pycg_edges))"
   ]
  },
  {
   "cell_type": "code",
   "execution_count": 86,
   "metadata": {},
   "outputs": [],
   "source": []
  },
  {
   "cell_type": "markdown",
   "metadata": {},
   "source": [
    "## Project 12"
   ]
  },
  {
   "cell_type": "code",
   "execution_count": 75,
   "metadata": {},
   "outputs": [],
   "source": [
    "p_number = 52"
   ]
  },
  {
   "cell_type": "code",
   "execution_count": 94,
   "metadata": {},
   "outputs": [],
   "source": [
    "projects = [1, 3, 4,\n",
    "            6, 7, 8, 9,\n",
    "            11, 12, 13, 14, 15,\n",
    "            16, 18, 19, 20,\n",
    "             22, 23, 24, 25,\n",
    "             28, 29,\n",
    "            31, 32, 33, 35, 36,\n",
    "            37, 38,\n",
    "            45, 46, 48, 50, \n",
    "            52, 53, 56, 57, 58]"
   ]
  },
  {
   "cell_type": "code",
   "execution_count": 188,
   "metadata": {},
   "outputs": [],
   "source": [
    "p_number = 47\n",
    "rs_graph = remove_location(\"/DyPyBench/new_dyna_output/project{}.json\".format(p_number))\n",
    "\n",
    "with open(\"/DyPyBench/DynaPyt_output/dynapyt_{}.json\".format(p_number), \"w\") as dpt:\n",
    "    json.dump(rs_graph, dpt)"
   ]
  },
  {
   "cell_type": "markdown",
   "metadata": {},
   "source": []
  },
  {
   "cell_type": "code",
   "execution_count": 161,
   "metadata": {},
   "outputs": [
    {
     "name": "stdout",
     "output_type": "stream",
     "text": [
      "[]\n",
      "122\n",
      "122\n",
      "[]\n",
      "51\n",
      "51\n",
      "[]\n",
      "40\n",
      "40\n",
      "[]\n",
      "13\n",
      "13\n",
      "[]\n",
      "74\n",
      "74\n",
      "[]\n",
      "18\n",
      "18\n",
      "[]\n",
      "85\n",
      "85\n",
      "[]\n",
      "9\n",
      "9\n",
      "[]\n",
      "48\n",
      "48\n",
      "[]\n",
      "8\n",
      "8\n",
      "[]\n",
      "35\n",
      "35\n",
      "[]\n",
      "45\n",
      "45\n",
      "[]\n",
      "18\n",
      "18\n",
      "[]\n",
      "103\n",
      "103\n",
      "[]\n",
      "38\n",
      "38\n",
      "[]\n",
      "39\n",
      "39\n",
      "[]\n",
      "17\n",
      "17\n",
      "[]\n",
      "9\n",
      "9\n",
      "[]\n",
      "52\n",
      "52\n",
      "[]\n",
      "27\n",
      "27\n",
      "[]\n",
      "151\n",
      "151\n",
      "[]\n",
      "211\n",
      "211\n",
      "[]\n",
      "81\n",
      "81\n",
      "[]\n",
      "23\n",
      "23\n",
      "[]\n",
      "146\n",
      "146\n",
      "[]\n",
      "28\n",
      "28\n",
      "[]\n",
      "61\n",
      "60\n",
      "[]\n",
      "199\n",
      "199\n",
      "[]\n",
      "23\n",
      "23\n",
      "[]\n",
      "57\n",
      "56\n",
      "[]\n",
      "46\n",
      "46\n",
      "[]\n",
      "27\n",
      "27\n",
      "[]\n",
      "7\n",
      "7\n",
      "[]\n",
      "14\n",
      "14\n",
      "[]\n",
      "20\n",
      "20\n",
      "[]\n",
      "19\n",
      "19\n",
      "[]\n",
      "74\n",
      "74\n",
      "[]\n",
      "13\n",
      "13\n"
     ]
    }
   ],
   "source": [
    "not_both = 0\n",
    "not_caller = 0\n",
    "not_callee = 0\n",
    "both_in = 0\n",
    "count_pycg_edges = 0\n",
    "d_callers = 0\n",
    "c_callers = 0\n",
    "d_callees = 0\n",
    "c_callees = 0\n",
    "d_edges = 0\n",
    "c_edges = 0\n",
    "and_callers = 0\n",
    "and_callees = 0\n",
    "and_edges = 0\n",
    "uncommon_callers = []\n",
    "for p_number in projects:\n",
    "    pycg_graph = prepare_pycg_graph(\"/DyPyBench/pycg_project{}.json\".format(p_number), replace_list=[])\n",
    "    dynapyt_graph = prepare_dynapyt_graph(\"/DyPyBench/DynaPyt_output/dynapyt_{}.json\".format(p_number), p_number, \"structlog.\", \n",
    "                                        replace_list=[])\n",
    "    len(set(dynapyt_graph.keys()) & set(pycg_graph.keys())) / (len(set(dynapyt_graph.keys())))\n",
    "\n",
    "    all_pycg = []\n",
    "    for k, v in pycg_graph.items():\n",
    "        if k in dynapyt_graph.keys():\n",
    "            all_pycg.extend([\" \".join(e.split(\".\")) for e in v])\n",
    "\n",
    "    all_dynapyt = []\n",
    "    for k, v in dynapyt_graph.items():\n",
    "        all_dynapyt.extend([\" \".join(e.split(\".\")) for e in v])\n",
    "\n",
    "    dyna_edges = [(k, e) for k,v in dynapyt_graph.items() for e in v]\n",
    "    pycg_edges = [(k, e) for k,v in pycg_graph.items() for e in v]\n",
    "    count_pycg_edges += len(set(pycg_edges))\n",
    "    dyna_diff_edges = set(dyna_edges) - (set(dyna_edges)&set(pycg_edges))\n",
    "    pycg_diff_edges = set(pycg_edges) - (set(dyna_edges)&set(pycg_edges))\n",
    "\n",
    "    d_callers += len(set(dynapyt_graph.keys()))\n",
    "    c_callers += len(set(pycg_graph.keys()))\n",
    "    d_callees += len(set(all_dynapyt))\n",
    "    c_callees += len(set(all_pycg))\n",
    "    d_edges += len(set(dyna_edges))\n",
    "    c_edges += len(set(pycg_edges))\n",
    "    and_callers += len(set(dynapyt_graph.keys()) & set(pycg_graph.keys()))\n",
    "    and_callees += len(set(all_dynapyt)& set(all_pycg))\n",
    "    and_edges += len(set(dyna_edges)&set(pycg_edges))\n",
    "    uncommon_callers.extend(list(set(dynapyt_graph.keys()) - (set(dynapyt_graph.keys())& set(pycg_graph.keys()))))\n",
    "    for e in pycg_diff_edges:\n",
    "        if e[0] not in dynapyt_graph.keys() and e[1] not in all_dynapyt:\n",
    "            not_both += 1\n",
    "        elif e[0] not in dynapyt_graph.keys():\n",
    "            not_caller += 1\n",
    "        elif e[1] not in all_dynapyt:\n",
    "            not_callee += 1\n",
    "        else:\n",
    "            both_in += 1"
   ]
  },
  {
   "cell_type": "code",
   "execution_count": 113,
   "metadata": {},
   "outputs": [
    {
     "name": "stdout",
     "output_type": "stream",
     "text": [
      "45351 78 12045 17\n"
     ]
    }
   ],
   "source": [
    "print(not_both, not_caller, not_callee, both_in)"
   ]
  },
  {
   "cell_type": "code",
   "execution_count": 114,
   "metadata": {},
   "outputs": [
    {
     "name": "stdout",
     "output_type": "stream",
     "text": [
      "2049 33795 3741 10537 6306 60565 1997 1723 3074\n"
     ]
    }
   ],
   "source": [
    "print(d_callers, c_callers, d_callees, c_callees, d_edges, c_edges, and_callers, and_callees, and_edges)"
   ]
  },
  {
   "cell_type": "code",
   "execution_count": 108,
   "metadata": {},
   "outputs": [
    {
     "data": {
      "text/plain": [
       "60565"
      ]
     },
     "execution_count": 108,
     "metadata": {},
     "output_type": "execute_result"
    }
   ],
   "source": [
    "count_pycg_edges"
   ]
  },
  {
   "cell_type": "code",
   "execution_count": 162,
   "metadata": {},
   "outputs": [],
   "source": [
    "counter = 0\n",
    "callees = [\".\".join(c.split(\" \")) for c in uncommon_callers]\n",
    "for f in funcs:\n",
    "    for c in callees:\n",
    "        if f in c:\n",
    "            counter += 1"
   ]
  },
  {
   "cell_type": "code",
   "execution_count": 163,
   "metadata": {},
   "outputs": [
    {
     "data": {
      "text/plain": [
       "16"
      ]
     },
     "execution_count": 163,
     "metadata": {},
     "output_type": "execute_result"
    }
   ],
   "source": [
    "counter"
   ]
  },
  {
   "cell_type": "code",
   "execution_count": 156,
   "metadata": {},
   "outputs": [
    {
     "data": {
      "text/plain": [
       "0.5946481665014867"
      ]
     },
     "execution_count": 156,
     "metadata": {},
     "output_type": "execute_result"
    }
   ],
   "source": [
    "counter / len(uncommon_callers)"
   ]
  },
  {
   "cell_type": "code",
   "execution_count": 165,
   "metadata": {},
   "outputs": [],
   "source": [
    "for c in callees:\n",
    "    if \"super.\" in c:\n",
    "        print(c)"
   ]
  },
  {
   "cell_type": "code",
   "execution_count": 101,
   "metadata": {},
   "outputs": [
    {
     "data": {
      "text/plain": [
       "(0.07889851485148515,\n",
       " 0.0003094059405940594,\n",
       " 0.9204826732673267,\n",
       " 0.0003094059405940594)"
      ]
     },
     "execution_count": 101,
     "metadata": {},
     "output_type": "execute_result"
    }
   ],
   "source": [
    "sum_all = (not_both+not_callee+not_caller+both_in)\n",
    "not_both/sum_all, not_caller/sum_all, not_callee/sum_all, both_in/sum_all"
   ]
  },
  {
   "cell_type": "code",
   "execution_count": 54,
   "metadata": {},
   "outputs": [
    {
     "name": "stdout",
     "output_type": "stream",
     "text": [
      "74\n",
      "3838\n",
      "142\n",
      "3291\n",
      "238\n",
      "4102\n",
      "69\n",
      "46\n",
      "100\n"
     ]
    }
   ],
   "source": [
    "print(len(set(dynapyt_graph.keys())))\n",
    "print(len(set(pycg_graph.keys())))\n",
    "print(len(set(all_dynapyt)))\n",
    "print(len(set(all_pycg)))\n",
    "print(len(set(dyna_edges)))\n",
    "print(len(set(pycg_edges)))\n",
    "print(len(set(dynapyt_graph.keys()) & set(pycg_graph.keys())))\n",
    "print(len(set(all_dynapyt)& set(all_pycg)))\n",
    "print(len(set(dyna_edges)&set(pycg_edges)))"
   ]
  },
  {
   "cell_type": "code",
   "execution_count": 28,
   "metadata": {},
   "outputs": [
    {
     "name": "stdout",
     "output_type": "stream",
     "text": [
      "furl.decorator [('furl', 90), ('furl.copy', 86)]\n"
     ]
    }
   ],
   "source": [
    "print_similar_keys(dynapyt_graph, pycg_graph)"
   ]
  },
  {
   "cell_type": "code",
   "execution_count": 117,
   "metadata": {},
   "outputs": [
    {
     "data": {
      "image/png": "[encoded data removed]",
      "text/plain": [
       "<Figure size 640x480 with 1 Axes>"
      ]
     },
     "metadata": {},
     "output_type": "display_data"
    }
   ],
   "source": [
    "from matplotlib_venn import venn2_unweighted \n",
    "from matplotlib import pyplot as plt\n",
    "plt.rcParams.update({'font.size': 16})\n",
    "# depict venn diagram\n",
    "venn2_unweighted(subsets = (6306 - 3074, \n",
    "                        60565 - 3074, \n",
    "                        3074),\n",
    "                set_labels = ('DynaPyt', \n",
    "                            'PyCG'),\n",
    "                set_colors=(\"orange\",\n",
    "                            \"blue\"),alpha=0.7)\n",
    "plt.show()"
   ]
  },
  {
   "cell_type": "code",
   "execution_count": null,
   "metadata": {},
   "outputs": [],
   "source": [
    "2049 33795 3741 10537 6306 60565 1997 1723 3074"
   ]
  },
  {
   "cell_type": "code",
   "execution_count": 172,
   "metadata": {},
   "outputs": [],
   "source": [
    "projects = [1, 2, 3, 4, 5,\n",
    "            6, 7, 8, 9, 10,\n",
    "            11, 12, 13, 14, 15,\n",
    "            16, 18, 19, 20, 21,\n",
    "             22, 23, 24, 25, 26,\n",
    "             28,27, 29, 30,\n",
    "            31, 32, 33, 35, 36,\n",
    "            37, 38, 39, 40, 41,\n",
    "            45, 46, 47, 48, 50, \n",
    "            52, 53, 56, 57, 58]"
   ]
  },
  {
   "cell_type": "code",
   "execution_count": 189,
   "metadata": {},
   "outputs": [
    {
     "name": "stdout",
     "output_type": "stream",
     "text": [
      "[]\n",
      "122\n",
      "122\n",
      "[]\n",
      "400\n",
      "390\n",
      "[]\n",
      "51\n",
      "51\n",
      "[]\n",
      "40\n",
      "40\n",
      "[]\n",
      "104\n",
      "103\n",
      "[]\n",
      "13\n",
      "13\n",
      "[]\n",
      "74\n",
      "74\n",
      "[]\n",
      "18\n",
      "18\n",
      "[]\n",
      "85\n",
      "85\n",
      "[]\n",
      "136\n",
      "136\n",
      "[]\n",
      "9\n",
      "9\n",
      "[]\n",
      "48\n",
      "48\n",
      "[]\n",
      "8\n",
      "8\n",
      "[]\n",
      "35\n",
      "35\n",
      "[]\n",
      "45\n",
      "45\n",
      "[]\n",
      "18\n",
      "18\n",
      "[]\n",
      "103\n",
      "103\n",
      "[]\n",
      "38\n",
      "38\n",
      "[]\n",
      "39\n",
      "39\n",
      "[]\n",
      "49\n",
      "49\n",
      "[]\n",
      "17\n",
      "17\n",
      "[]\n",
      "9\n",
      "9\n",
      "[]\n",
      "52\n",
      "52\n",
      "[]\n",
      "27\n",
      "27\n",
      "[]\n",
      "54\n",
      "54\n",
      "[]\n",
      "151\n",
      "151\n",
      "[]\n",
      "75\n",
      "75\n",
      "[]\n",
      "211\n",
      "211\n",
      "[]\n",
      "65\n",
      "63\n",
      "[]\n",
      "81\n",
      "81\n",
      "[]\n",
      "23\n",
      "23\n",
      "[]\n",
      "146\n",
      "146\n",
      "[]\n",
      "28\n",
      "28\n",
      "[]\n",
      "61\n",
      "60\n",
      "[]\n",
      "199\n",
      "199\n",
      "[]\n",
      "23\n",
      "23\n",
      "[]\n",
      "2\n",
      "2\n",
      "[]\n",
      "52\n",
      "52\n",
      "[]\n",
      "33\n",
      "33\n",
      "[]\n",
      "57\n",
      "56\n",
      "[]\n",
      "46\n",
      "46\n",
      "[]\n",
      "72\n",
      "72\n",
      "[]\n",
      "27\n",
      "27\n",
      "[]\n",
      "7\n",
      "7\n",
      "[]\n",
      "14\n",
      "14\n",
      "[]\n",
      "20\n",
      "20\n",
      "[]\n",
      "19\n",
      "19\n",
      "[]\n",
      "74\n",
      "74\n",
      "[]\n",
      "13\n",
      "13\n"
     ]
    }
   ],
   "source": [
    "not_both = 0\n",
    "not_caller = 0\n",
    "not_callee = 0\n",
    "both_in = 0\n",
    "count_pycg_edges = 0\n",
    "d_callers = 0\n",
    "c_callers = 0\n",
    "d_callees = 0\n",
    "c_callees = 0\n",
    "d_edges = 0\n",
    "c_edges = 0\n",
    "and_callers = 0\n",
    "and_callees = 0\n",
    "and_edges = 0\n",
    "uncommon_callers = []\n",
    "for p_number in projects:\n",
    "    dynapyt_graph = prepare_dynapyt_graph(\"/DyPyBench/DynaPyt_output/dynapyt_{}.json\".format(p_number), p_number, \"structlog.\", \n",
    "                                        replace_list=[])\n",
    "\n",
    "\n",
    "    all_dynapyt = []\n",
    "    for k, v in dynapyt_graph.items():\n",
    "        all_dynapyt.extend([\" \".join(e.split(\".\")) for e in v])\n",
    "\n",
    "    dyna_edges = [(k, e) for k,v in dynapyt_graph.items() for e in v]\n",
    "\n",
    "    d_callers += len(set(dynapyt_graph.keys()))\n",
    "    d_callees += len(set(all_dynapyt))\n",
    "    d_edges += len(set(dyna_edges))"
   ]
  },
  {
   "cell_type": "code",
   "execution_count": 190,
   "metadata": {},
   "outputs": [
    {
     "data": {
      "text/plain": [
       "9575"
      ]
     },
     "execution_count": 190,
     "metadata": {},
     "output_type": "execute_result"
    }
   ],
   "source": [
    "d_edges"
   ]
  },
  {
   "cell_type": "code",
   "execution_count": 192,
   "metadata": {},
   "outputs": [
    {
     "data": {
      "text/plain": [
       "5384"
      ]
     },
     "execution_count": 192,
     "metadata": {},
     "output_type": "execute_result"
    }
   ],
   "source": [
    "d_callees"
   ]
  },
  {
   "cell_type": "code",
   "execution_count": null,
   "metadata": {},
   "outputs": [],
   "source": []
  }
 ],
 "metadata": {
  "kernelspec": {
   "display_name": ".test_venv",
   "language": "python",
   "name": "python3"
  },
  "language_info": {
   "codemirror_mode": {
    "name": "ipython",
    "version": 3
   },
   "file_extension": ".py",
   "mimetype": "text/x-python",
   "name": "python",
   "nbconvert_exporter": "python",
   "pygments_lexer": "ipython3",
   "version": "3.10.6"
  },
  "orig_nbformat": 4
 },
 "nbformat": 4,
 "nbformat_minor": 2
}
